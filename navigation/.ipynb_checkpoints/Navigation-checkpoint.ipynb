{
 "cells": [
  {
   "cell_type": "markdown",
   "metadata": {},
   "source": [
    "# 1. Environment"
   ]
  },
  {
   "cell_type": "markdown",
   "metadata": {},
   "source": [
    "## 1.1 Starting"
   ]
  },
  {
   "cell_type": "code",
   "execution_count": 2,
   "metadata": {},
   "outputs": [],
   "source": [
    "from unityagents import UnityEnvironment"
   ]
  },
  {
   "cell_type": "code",
   "execution_count": 3,
   "metadata": {},
   "outputs": [
    {
     "name": "stderr",
     "output_type": "stream",
     "text": [
      "INFO:unityagents:\n",
      "'Academy' started successfully!\n",
      "Unity Academy name: Academy\n",
      "        Number of Brains: 1\n",
      "        Number of External Brains : 1\n",
      "        Lesson number : 0\n",
      "        Reset Parameters :\n",
      "\t\t\n",
      "Unity brain name: BananaBrain\n",
      "        Number of Visual Observations (per agent): 0\n",
      "        Vector Observation space type: continuous\n",
      "        Vector Observation space size (per agent): 37\n",
      "        Number of stacked Vector Observation: 1\n",
      "        Vector Action space type: discrete\n",
      "        Vector Action space size (per agent): 4\n",
      "        Vector Action descriptions: , , , \n"
     ]
    }
   ],
   "source": [
    "env = UnityEnvironment(file_name=\"Banana.app\")\n",
    "brain_name = env.brain_names[0]\n",
    "brain = env.brains[brain_name]\n",
    "\n",
    "env_info = env.reset(train_mode=True)[brain_name]"
   ]
  },
  {
   "cell_type": "markdown",
   "metadata": {},
   "source": [
    "## 1.2 State, Action Space and Reward"
   ]
  },
  {
   "cell_type": "markdown",
   "metadata": {},
   "source": [
    "The **state** space has 37 dimensions and contains the agent's velocity, along with ray-based perception of objects around agent's forward direction.  "
   ]
  },
  {
   "cell_type": "code",
   "execution_count": 4,
   "metadata": {},
   "outputs": [
    {
     "name": "stdout",
     "output_type": "stream",
     "text": [
      "States have length: 37\n",
      "States look like: [1.         0.         0.         0.         0.84408134 0.\n",
      " 0.         1.         0.         0.0748472  0.         1.\n",
      " 0.         0.         0.25755    1.         0.         0.\n",
      " 0.         0.74177343 0.         1.         0.         0.\n",
      " 0.25854847 0.         0.         1.         0.         0.09355672\n",
      " 0.         1.         0.         0.         0.31969345 0.\n",
      " 0.        ]\n"
     ]
    }
   ],
   "source": [
    "state = env_info.vector_observations[0]\n",
    "state_size = len(state)\n",
    "print('States have length:', state_size)\n",
    "print('States look like:', state)"
   ]
  },
  {
   "cell_type": "markdown",
   "metadata": {},
   "source": [
    "Four discrete **actions** are available, corresponding to:\n",
    "- **`0`** - move forward.\n",
    "- **`1`** - move backward.\n",
    "- **`2`** - turn left.\n",
    "- **`3`** - turn right."
   ]
  },
  {
   "cell_type": "code",
   "execution_count": 5,
   "metadata": {},
   "outputs": [
    {
     "name": "stdout",
     "output_type": "stream",
     "text": [
      "Number of actions: 4\n"
     ]
    }
   ],
   "source": [
    "action_size = brain.vector_action_space_size\n",
    "print('Number of actions:', action_size)"
   ]
  },
  {
   "cell_type": "markdown",
   "metadata": {},
   "source": [
    "A **reward** of +1 is provided for collecting a yellow banana, and a **reward** of -1 is provided for collecting a blue banana.  Thus, the goal of your agent is to collect as many yellow bananas as possible while avoiding blue bananas.  "
   ]
  },
  {
   "cell_type": "markdown",
   "metadata": {},
   "source": [
    "# 2. Agent Playing - Pre Training"
   ]
  },
  {
   "cell_type": "code",
   "execution_count": 6,
   "metadata": {},
   "outputs": [],
   "source": [
    "from model import Agent"
   ]
  },
  {
   "cell_type": "code",
   "execution_count": 7,
   "metadata": {},
   "outputs": [
    {
     "name": "stdout",
     "output_type": "stream",
     "text": [
      "Final score: 0.0\n"
     ]
    }
   ],
   "source": [
    "agent = Agent(state_size=state_size, action_size=action_size, seed=0)\n",
    "\n",
    "env_info = env.reset(train_mode=False)[brain_name]\n",
    "state = env_info.vector_observations[0]\n",
    "score = 0\n",
    "while True:\n",
    "    action = agent.act(state).astype(int)\n",
    "    env_info = env.step(action)[brain_name]\n",
    "    \n",
    "    state = env_info.vector_observations[0]\n",
    "    reward = env_info.rewards[0]\n",
    "    score += reward\n",
    "    \n",
    "    done = env_info.local_done[0]\n",
    "    if done:\n",
    "        break\n",
    "\n",
    "print('Final score:', score)"
   ]
  },
  {
   "cell_type": "markdown",
   "metadata": {},
   "source": [
    "# 3. Agent Training"
   ]
  },
  {
   "cell_type": "code",
   "execution_count": 9,
   "metadata": {},
   "outputs": [],
   "source": [
    "import numpy as np\n",
    "import torch\n",
    "from collections import deque\n",
    "import matplotlib.pyplot as plt\n",
    "\n",
    "def interact(env, agent, n_episodes=5000, max_t=1000, eps_start=1.0, eps_end=0.01, eps_decay=0.997, train=True):\n",
    "    \"\"\"Agent interacting with environment - play or train.\n",
    "    \n",
    "    Params\n",
    "    ======\n",
    "        n_episodes (int): maximum number of training episodes\n",
    "        max_t (int): maximum number of timesteps per episode\n",
    "        eps_start (float): starting value of epsilon, for epsilon-greedy action selection\n",
    "        eps_end (float): minimum value of epsilon\n",
    "        eps_decay (float): multiplicative factor (per episode) for decreasing epsilon\n",
    "        train (bool): when set to True the agent is training, otherwise playing\n",
    "    \"\"\"\n",
    "    scores = []                        \n",
    "    scores_window = deque(maxlen=100)\n",
    "    scores_window_mean = []\n",
    "    eps = eps_start                    \n",
    "    \n",
    "    for i_episode in range(1, n_episodes + 1):               \n",
    "        env_info = env.reset(train_mode=train)[brain_name]    \n",
    "        state = env_info.vector_observations[0]               \n",
    "        score = 0                                             \n",
    "        \n",
    "        for t in range(max_t):                                \n",
    "            action = agent.act(state, eps if train else 0.0)                    \n",
    "            env_info = env.step(action)[brain_name] \n",
    "            next_state = env_info.vector_observations[0]      \n",
    "            reward = env_info.rewards[0]                      \n",
    "            done = env_info.local_done[0]                     \n",
    "            \n",
    "            agent.step(state, action, reward, next_state, done)  \n",
    "            score += reward                                      \n",
    "            \n",
    "            state = next_state                                   \n",
    "            if done:                                            \n",
    "                break\n",
    "        \n",
    "                \n",
    "        scores_window.append(score)       \n",
    "        scores.append(score)              \n",
    "        eps = max(eps_end, eps_decay*eps) \n",
    "        print('\\rEpisode {}\\tAverage Score: {:.2f}'.format(i_episode, np.mean(scores_window)), end=\"\")\n",
    "        if i_episode % 100 == 0:\n",
    "            scores_window_mean.append(np.mean(scores_window))\n",
    "            print('\\rEpisode {}\\tAverage Score: {:.2f}'.format(i_episode, np.mean(scores_window)))\n",
    "        if train and len(scores_window_mean)>1:\n",
    "            if (scores_window_mean[-1] - scores_window_mean[-2]) < 0.01 and np.mean(scores_window) >= 15:\n",
    "                print('\\nEnvironment solved in {:d} episodes!\\tAverage Score: {:.2f}'.format(i_episode-100, np.mean(scores_window)))\n",
    "                torch.save(agent.qnetwork_local.state_dict(), 'checkpoint.pth')\n",
    "                break\n",
    "    return scores"
   ]
  },
  {
   "cell_type": "code",
   "execution_count": 10,
   "metadata": {},
   "outputs": [
    {
     "name": "stdout",
     "output_type": "stream",
     "text": [
      "Episode 100\tAverage Score: 0.53\n",
      "Episode 200\tAverage Score: 2.12\n",
      "Episode 300\tAverage Score: 5.28\n",
      "Episode 400\tAverage Score: 7.57\n",
      "Episode 500\tAverage Score: 9.90\n",
      "Episode 600\tAverage Score: 11.70\n",
      "Episode 700\tAverage Score: 12.32\n",
      "Episode 800\tAverage Score: 12.56\n",
      "Episode 900\tAverage Score: 13.18\n",
      "Episode 1000\tAverage Score: 14.40\n",
      "Episode 1100\tAverage Score: 14.70\n",
      "Episode 1200\tAverage Score: 15.86\n",
      "Episode 1300\tAverage Score: 15.60\n",
      "\n",
      "Environment solved in 1200 episodes!\tAverage Score: 15.60\n"
     ]
    }
   ],
   "source": [
    "agent = Agent(state_size=state_size, action_size=action_size, seed=0)\n",
    "scores = interact(env, agent)"
   ]
  },
  {
   "cell_type": "code",
   "execution_count": 37,
   "metadata": {},
   "outputs": [
    {
     "data": {
      "image/png": "[encoded data removed]",
      "text/plain": [
       "<Figure size 1080x360 with 1 Axes>"
      ]
     },
     "metadata": {
      "needs_background": "light"
     },
     "output_type": "display_data"
    }
   ],
   "source": [
    "fig, ax = plt.subplots(1, 1, figsize=[15, 5])\n",
    "plt.rcParams.update({'font.size': 14})\n",
    "\n",
    "ax.plot(np.arange(len(scores)), scores, c='black')\n",
    "ax.set_ylabel('Score')\n",
    "ax.set_xlabel('Episode #')\n",
    "ax.grid(which=\"major\")\n",
    "\n",
    "fig.tight_layout()\n",
    "fig.savefig(\"result_score.jpg\")"
   ]
  },
  {
   "cell_type": "markdown",
   "metadata": {},
   "source": [
    "# 4. Agent Playing - Post Training"
   ]
  },
  {
   "cell_type": "code",
   "execution_count": 13,
   "metadata": {},
   "outputs": [
    {
     "name": "stdout",
     "output_type": "stream",
     "text": [
      "Episode 100\tAverage Score: 11.54\n"
     ]
    }
   ],
   "source": [
    "agent = Agent(state_size=state_size, action_size=action_size, seed=0, pretrained_model_file='checkpoint.pth')\n",
    "scores = interact(env, agent, n_episodes=100, train=False)"
   ]
  },
  {
   "cell_type": "code",
   "execution_count": 14,
   "metadata": {},
   "outputs": [],
   "source": [
    "env.close()"
   ]
  },
  {
   "cell_type": "code",
   "execution_count": null,
   "metadata": {},
   "outputs": [],
   "source": []
  }
 ],
 "metadata": {
  "kernelspec": {
   "display_name": "Python [conda env:drl]",
   "language": "python",
   "name": "conda-env-drl-py"
  },
  "language_info": {
   "codemirror_mode": {
    "name": "ipython",
    "version": 3
   },
   "file_extension": ".py",
   "mimetype": "text/x-python",
   "name": "python",
   "nbconvert_exporter": "python",
   "pygments_lexer": "ipython3",
   "version": "3.6.8"
  }
 },
 "nbformat": 4,
 "nbformat_minor": 2
}
